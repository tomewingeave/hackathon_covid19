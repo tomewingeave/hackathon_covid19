{
 "cells": [
  {
   "cell_type": "code",
   "execution_count": 2,
   "metadata": {},
   "outputs": [],
   "source": [
    "import numpy as np\n",
    "import matplotlib.pyplot as plt\n",
    "import pandas as pd"
   ]
  },
  {
   "cell_type": "code",
   "execution_count": 25,
   "metadata": {},
   "outputs": [
    {
     "name": "stdout",
     "output_type": "stream",
     "text": [
      "<class 'pandas.core.frame.DataFrame'>\n",
      "RangeIndex: 278848 entries, 0 to 278847\n",
      "Data columns (total 10 columns):\n",
      " #   Column               Non-Null Count   Dtype  \n",
      "---  ------               --------------   -----  \n",
      " 0   test_date            278848 non-null  object \n",
      " 1   cough                278596 non-null  float64\n",
      " 2   fever                278596 non-null  float64\n",
      " 3   sore_throat          278847 non-null  float64\n",
      " 4   shortness_of_breath  278847 non-null  float64\n",
      " 5   head_ache            278847 non-null  float64\n",
      " 6   corona_result        278848 non-null  object \n",
      " 7   age_60_and_above     151528 non-null  object \n",
      " 8   gender               259285 non-null  object \n",
      " 9   test_indication      278848 non-null  object \n",
      "dtypes: float64(5), object(5)\n",
      "memory usage: 21.3+ MB\n"
     ]
    },
    {
     "name": "stderr",
     "output_type": "stream",
     "text": [
      "C:\\Users\\Tom Ewing\\AppData\\Local\\Temp\\ipykernel_6452\\1640198007.py:1: DtypeWarning: Columns (7) have mixed types. Specify dtype option on import or set low_memory=False.\n",
      "  data_006 = pd.read_csv('data/corona_tested_individuals_ver_006.english.csv')\n"
     ]
    }
   ],
   "source": [
    "data_006 = pd.read_csv('data/corona_tested_individuals_ver_006.english.csv')\n",
    "\n",
    "data_006.info()"
   ]
  },
  {
   "cell_type": "code",
   "execution_count": 24,
   "metadata": {},
   "outputs": [
    {
     "name": "stderr",
     "output_type": "stream",
     "text": [
      "C:\\Users\\Tom Ewing\\AppData\\Local\\Temp\\ipykernel_6452\\546555630.py:1: DtypeWarning: Columns (7) have mixed types. Specify dtype option on import or set low_memory=False.\n",
      "  data_0083 = pd.read_csv('data/corona_tested_individuals_ver_0083.english.csv')\n"
     ]
    },
    {
     "name": "stdout",
     "output_type": "stream",
     "text": [
      "<class 'pandas.core.frame.DataFrame'>\n",
      "RangeIndex: 2742596 entries, 0 to 2742595\n",
      "Data columns (total 10 columns):\n",
      " #   Column               Dtype \n",
      "---  ------               ----- \n",
      " 0   test_date            object\n",
      " 1   cough                int64 \n",
      " 2   fever                int64 \n",
      " 3   sore_throat          int64 \n",
      " 4   shortness_of_breath  int64 \n",
      " 5   head_ache            int64 \n",
      " 6   corona_result        object\n",
      " 7   age_60_and_above     object\n",
      " 8   gender               object\n",
      " 9   test_indication      object\n",
      "dtypes: int64(5), object(5)\n",
      "memory usage: 209.2+ MB\n"
     ]
    }
   ],
   "source": [
    "data_0083 = pd.read_csv('data/corona_tested_individuals_ver_0083.english.csv')\n",
    "data_0083.info()"
   ]
  },
  {
   "cell_type": "code",
   "execution_count": 23,
   "metadata": {},
   "outputs": [
    {
     "name": "stdout",
     "output_type": "stream",
     "text": [
      "<class 'pandas.core.frame.DataFrame'>\n",
      "Index: 3021444 entries, 0 to 2742595\n",
      "Data columns (total 10 columns):\n",
      " #   Column               Dtype  \n",
      "---  ------               -----  \n",
      " 0   test_date            object \n",
      " 1   cough                float64\n",
      " 2   fever                float64\n",
      " 3   sore_throat          float64\n",
      " 4   shortness_of_breath  float64\n",
      " 5   head_ache            float64\n",
      " 6   corona_result        object \n",
      " 7   age_60_and_above     object \n",
      " 8   gender               object \n",
      " 9   test_indication      object \n",
      "dtypes: float64(5), object(5)\n",
      "memory usage: 253.6+ MB\n"
     ]
    }
   ],
   "source": [
    "data = pd.concat([data_006, data_0083])\n",
    "data.info()"
   ]
  },
  {
   "cell_type": "markdown",
   "metadata": {},
   "source": [
    "## Initials thoughts on data\n",
    "- 5 symptom columns, **binary** yes/no data\n",
    "    1. cough\n",
    "    2. fever\n",
    "    3. sore throat\n",
    "    4. shortness of breath\n",
    "- 2 columns about patient, also seem to be **binary**\n",
    "    - aged 60 and above\n",
    "        - *lots* of missing info for this column (46% missing for 006, 20% for 0083)\n",
    "        - any way we can fill in the missing data? The dataset is from Isreal, maybe using the age distribution of the Israeli population to generate values?\n",
    "    - gender\n",
    "        - some missing data for gender () - perhaps due to patients not identifying as male or female - rather than discard this data we could make assumptions and see if there are any valuable insights?\n",
    "- `test_indication` is an interesting column, options are:\n",
    "    1. Other\n",
    "    2. Abroad\n",
    "    3. Contact with confirmed\n",
    "    - Could perhaps encode these as integer values\n",
    "- `test_date` maybe we can drop this\n",
    "- `corona_result`, the result of the test, is the value to predict\n",
    "    1. negative\n",
    "    2. positive\n",
    "    3. other\n",
    "        - What do we do with this value?\n"
   ]
  },
  {
   "cell_type": "markdown",
   "metadata": {},
   "source": []
  }
 ],
 "metadata": {
  "kernelspec": {
   "display_name": "venv",
   "language": "python",
   "name": "python3"
  },
  "language_info": {
   "codemirror_mode": {
    "name": "ipython",
    "version": 3
   },
   "file_extension": ".py",
   "mimetype": "text/x-python",
   "name": "python",
   "nbconvert_exporter": "python",
   "pygments_lexer": "ipython3",
   "version": "3.12.3"
  }
 },
 "nbformat": 4,
 "nbformat_minor": 2
}
